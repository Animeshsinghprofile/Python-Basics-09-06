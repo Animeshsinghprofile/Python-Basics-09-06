{
  "nbformat": 4,
  "nbformat_minor": 0,
  "metadata": {
    "colab": {
      "provenance": []
    },
    "kernelspec": {
      "name": "python3",
      "display_name": "Python 3"
    },
    "language_info": {
      "name": "python"
    }
  },
  "cells": [
    {
      "cell_type": "markdown",
      "source": [
        "#Python Basic Questions and Answers."
      ],
      "metadata": {
        "id": "6PhgtO7qTuuf"
      }
    },
    {
      "cell_type": "markdown",
      "source": [
        "Q.1  What is Python, and why is it popular?\n",
        "\n",
        "Answer:- Python is a programming language, known as for its simplicity, readability, and versatility. Its is very useful because of high-level, interpreted programming. Python is a programming language that is easy to understand and write, making it a popular choice among developers and programmers.\n"
      ],
      "metadata": {
        "id": "Yi34cq1MT-Rr"
      }
    },
    {
      "cell_type": "markdown",
      "source": [
        " Q.2 What is an interpreter in Python?\n",
        "\n",
        " Answer:- An interpreter in Python is a program that reads and runs our Python code one line at a time.\n",
        "\n",
        "So when we write a Python program, the interpreter looks at each line, understands it, and tells the computer what to do — step by step.\n",
        "\n",
        "\n"
      ],
      "metadata": {
        "id": "3Q4shqxaWOM3"
      }
    },
    {
      "cell_type": "markdown",
      "source": [
        "Q.3 What are pre-defined keywords in Python?\n",
        "\n",
        "Answer:- Pre-defined keywords in Python are special words that Python already understands and uses to do specific jobs. We cannot use these words for naming your variables or functions. For example: if, else, elif, True, False, None, etc..\n",
        "\n",
        "\n"
      ],
      "metadata": {
        "id": "jmrCuPSvXREv"
      }
    },
    {
      "cell_type": "markdown",
      "source": [
        "Q.4 Can keywords be used as variable names?\n",
        "\n",
        "Answer:- No, keywords cannot be used as variable names in Python.Because keywords are special words that Python uses to understand what our code should do. If you try to use them as variable names, Python gets confused.\n"
      ],
      "metadata": {
        "id": "QCXENitYY5hM"
      }
    },
    {
      "cell_type": "markdown",
      "source": [
        "Q.5 What is mutability in Python?\n",
        "\n",
        "Answer:- Mutability means whether something in Python can be changed after you make it. Example:-  List, Dictionary and set are mutable.\n"
      ],
      "metadata": {
        "id": "Yui-5LyGZtim"
      }
    },
    {
      "cell_type": "markdown",
      "source": [
        "Q.6  Why are lists mutable, but tuples are immutable?\n",
        "\n",
        "Answer:- Lists are mutable Because Python lets you change the items inside a list. like we can add, remove and change items in lists.\n",
        "On the Other hand We can not add, remove or change anything in tuples because Python locks the items inside a tuple. Both are good on their ways lists gives flexiblity to change. And tuples improve performance and safety.\n"
      ],
      "metadata": {
        "id": "zhoNWpltbBKm"
      }
    },
    {
      "cell_type": "markdown",
      "source": [
        "Q.7  What is the difference between “==” and “is” operators in Python?\n",
        "\n",
        "Answer:- The “==” is a comparison operator, it uses between two value for compare equality, but the “Is” defined two variable refer to the same object in memory.\n"
      ],
      "metadata": {
        "id": "uS4bNShsdjtN"
      }
    },
    {
      "cell_type": "markdown",
      "source": [
        " Q.8 What are logical operators in Python?\n",
        "\n",
        " Answer:- Logical operators are special words that let you combine or change true/false statements. Example:- \"and, or, not\"."
      ],
      "metadata": {
        "id": "lexqkW33fsVp"
      }
    },
    {
      "cell_type": "markdown",
      "source": [
        "Q.9  What is type casting in Python?\n",
        "\n",
        "Answer:- Type casting means changing a value from one type to another. Like turn a number into a string, turn a string into a number, turn a number into a float.\n",
        "\n"
      ],
      "metadata": {
        "id": "AEcIMssag12k"
      }
    },
    {
      "cell_type": "markdown",
      "source": [
        "Q.10  What is the difference between implicit and explicit type casting?\n",
        "\n",
        "Answer:- implicit type casting: .When Python convert data type internally then its known as Implicit type casting -Explicit type casting: When user convert data type externally using int(), float(), str() and float(), then its known as Explicit type casting."
      ],
      "metadata": {
        "id": "N0sxTRrqhfgE"
      }
    },
    {
      "cell_type": "markdown",
      "source": [
        "Q.11 What is the purpose of conditional statements in Python?\n",
        "\n",
        "Answer:- The purpose of conditional statements in Python is to allow the program to make decisions based on certain conditions. They help control the flow of the program by checking if something is true or false, and then doing different things depending on the result. Example:- if, else, and elif."
      ],
      "metadata": {
        "id": "3QOGrOVzjrvN"
      }
    },
    {
      "cell_type": "markdown",
      "source": [
        "Q.12 How does the elif statement work?\n",
        "\n",
        "Answer:- The *elif* statement means \"*else if*\". It lets us check another condition if the first *if* is not true.It comes after *if* and before *else*, and we can have as many *elif* blocks as we need. In simple language the *elif* comes up when the *if* statement is false.\n"
      ],
      "metadata": {
        "id": "daMTNcYukdoS"
      }
    },
    {
      "cell_type": "markdown",
      "source": [
        "Q.13 What is the difference between for and while loops?\n",
        "\n",
        "Answer:- ***for*** loop Used when you know how many times to repeat.\n",
        "\n",
        "***while*** loop Used when you don't know how many times to repeat.\n"
      ],
      "metadata": {
        "id": "UfKV6awPkdqi"
      }
    },
    {
      "cell_type": "markdown",
      "source": [
        "Q:14 Describe a scenario where a while loop is more suitable than a for loop.\n",
        "\n",
        "Answer:- while loop is helpful when we don't know how many iteration or loop the statement will require. just like for an example: Prompting a user to enter a password until they get the correct one."
      ],
      "metadata": {
        "id": "ms6caXFPkdt6"
      }
    },
    {
      "cell_type": "markdown",
      "source": [
        "# **Python basics Assignment: practical Questions & Answers**"
      ],
      "metadata": {
        "id": "gkSN1L7WpyQQ"
      }
    },
    {
      "cell_type": "code",
      "source": [
        "# Q.1 Write a Python program to print \"Hello, World!\"\n",
        "\n",
        "\n",
        "print(\"Hello, World!\")\n"
      ],
      "metadata": {
        "colab": {
          "base_uri": "https://localhost:8080/"
        },
        "id": "roFsE8oKqVgB",
        "outputId": "7896b4f2-b4e5-4201-f7ea-c00c7520476b"
      },
      "execution_count": null,
      "outputs": [
        {
          "output_type": "stream",
          "name": "stdout",
          "text": [
            "Hello, World!\n"
          ]
        }
      ]
    },
    {
      "cell_type": "code",
      "source": [
        "# Q.2 Write a Python program that displays your name and age.\n",
        "\n",
        "name = 'Animesh'\n",
        "age = '23'\n",
        "print(\"my name is:\", name)\n",
        "print(\"and age\", age)\n"
      ],
      "metadata": {
        "colab": {
          "base_uri": "https://localhost:8080/"
        },
        "id": "tiBioSQKqoEE",
        "outputId": "5683aa49-9df2-4e9c-e36b-7bc0a75043ee"
      },
      "execution_count": null,
      "outputs": [
        {
          "output_type": "stream",
          "name": "stdout",
          "text": [
            "my name is: Animesh\n",
            "and age 23\n"
          ]
        }
      ]
    },
    {
      "cell_type": "code",
      "source": [
        "# Q.3 Write code to print all the pre-defined keywords in Python using the keyword library.\n",
        "\n",
        "help(\"keywords\")\n",
        "  #find it the easy way to get codes. is this one!\n"
      ],
      "metadata": {
        "colab": {
          "base_uri": "https://localhost:8080/"
        },
        "id": "dx4Ou2bwqoHb",
        "outputId": "e10c99cd-8fd7-4ceb-a139-d61236f2e667"
      },
      "execution_count": null,
      "outputs": [
        {
          "output_type": "stream",
          "name": "stdout",
          "text": [
            "\n",
            "Here is a list of the Python keywords.  Enter any keyword to get more help.\n",
            "\n",
            "False               class               from                or\n",
            "None                continue            global              pass\n",
            "True                def                 if                  raise\n",
            "and                 del                 import              return\n",
            "as                  elif                in                  try\n",
            "assert              else                is                  while\n",
            "async               except              lambda              with\n",
            "await               finally             nonlocal            yield\n",
            "break               for                 not                 \n",
            "\n"
          ]
        }
      ]
    },
    {
      "cell_type": "code",
      "source": [
        "# Q.4 Write a program that checks if a given word is a Python keyword\n",
        "\n",
        "import keyword\n",
        "\n",
        "word = input(\"Enter a word: \")\n",
        "if keyword.iskeyword(word):\n",
        "  print(\"yes, it's a python keyword: \",word)\n",
        "else:\n",
        "  print(\"no, it's not a python keyword: \",word)\n"
      ],
      "metadata": {
        "colab": {
          "base_uri": "https://localhost:8080/"
        },
        "id": "88ttVsglsRIE",
        "outputId": "58411983-4b1f-4e04-c199-7f2a5a990536"
      },
      "execution_count": null,
      "outputs": [
        {
          "output_type": "stream",
          "name": "stdout",
          "text": [
            "Enter a word: else\n",
            "yes, it's a python keyword:  else\n"
          ]
        }
      ]
    },
    {
      "cell_type": "code",
      "source": [
        "# Q.5 Create a list and tuple in Python, and demonstrate how attempting to change an element works differently for each.\n",
        "\n",
        "the_list = [1, 2, 3]\n",
        "the_tuple = (1, 2, 3)\n",
        "\n",
        "# Modify list\n",
        "the_list[0] = 100\n",
        "print(\"Modified list:\", the_list)\n",
        "\n",
        "# Try modifying tuple\n",
        "try:\n",
        "    the_tuple[0] = 100\n",
        "except TypeError as e:\n",
        "    print(\"Error modifying tuple:\", e)"
      ],
      "metadata": {
        "colab": {
          "base_uri": "https://localhost:8080/"
        },
        "id": "SZAuDvtCsRLl",
        "outputId": "5068b0da-2a67-41a5-f762-84573f12480a"
      },
      "execution_count": null,
      "outputs": [
        {
          "output_type": "stream",
          "name": "stdout",
          "text": [
            "Modified list: [100, 2, 3]\n",
            "Error modifying tuple: 'tuple' object does not support item assignment\n"
          ]
        }
      ]
    },
    {
      "cell_type": "code",
      "source": [
        "# Q.6 Write a function to demonstrate the behavior of mutable and immutable arguments.\n",
        "\n",
        "def test_mutable_immutable(x, y):\n",
        "    x += 1\n",
        "    y.append(99)\n",
        "    print(\"Inside function - x:\", x)\n",
        "    print(\"Inside function - y:\", y)\n",
        "\n",
        "a = 10             # Immutable\n",
        "b = [1, 2, 3]      # Mutable\n",
        "\n",
        "test_mutable_immutable(a, b)\n",
        "print(\"Outside function - a:\", a)\n",
        "print(\"Outside function - b:\", b)\n"
      ],
      "metadata": {
        "id": "r4G1N1ia8bQF",
        "colab": {
          "base_uri": "https://localhost:8080/"
        },
        "outputId": "eae06124-deff-4705-b232-1b0f41c0ae46"
      },
      "execution_count": 1,
      "outputs": [
        {
          "output_type": "stream",
          "name": "stdout",
          "text": [
            "Inside function - x: 11\n",
            "Inside function - y: [1, 2, 3, 99]\n",
            "Outside function - a: 10\n",
            "Outside function - b: [1, 2, 3, 99]\n"
          ]
        }
      ]
    },
    {
      "cell_type": "code",
      "source": [
        "# Q.7 Write a program that performs basic arithmetic operations on two user-input numbers.\n",
        "\n",
        "num1 = float(input(\"Enter the first number: \"))\n",
        "num2 = float(input(\"Enter the second number: \"))\n",
        "\n",
        "addition = num1 + num2\n",
        "subtraction = num1 - num2\n",
        "multiplication = num1 * num2\n",
        "division = num1 / num2\n",
        "\n",
        "print(\"Addition:\", num1 + num2)\n",
        "print(\"Subtraction:\", num1 - num2)\n",
        "print(\"Multiplication:\", num1 * num2)\n",
        "print(\"Division:\", num1 / num2 if num2 != 0 else \"Cannot divide by zero\")\n"
      ],
      "metadata": {
        "id": "XfM-1vb_8bZ0",
        "colab": {
          "base_uri": "https://localhost:8080/"
        },
        "outputId": "62135342-f317-4d0c-b9b0-30e3e974d836"
      },
      "execution_count": 6,
      "outputs": [
        {
          "output_type": "stream",
          "name": "stdout",
          "text": [
            "Enter the first number: 2\n",
            "Enter the second number: 3\n",
            "Addition: 5.0\n",
            "Subtraction: -1.0\n",
            "Multiplication: 6.0\n",
            "Division: 0.6666666666666666\n"
          ]
        }
      ]
    },
    {
      "cell_type": "code",
      "source": [
        "# Q.8  Write a program to demonstrate the use of logical operators.\n",
        "\n",
        "x=True\n",
        "y=False\n",
        "print(\"x and y:\", x and y)\n",
        "print(\"x or y:\", x or y)\n",
        "print(\"not x:\", not x)"
      ],
      "metadata": {
        "colab": {
          "base_uri": "https://localhost:8080/"
        },
        "id": "XgcaVqX2R6S5",
        "outputId": "007e8be6-4f00-43c3-c124-69b4005cde7f"
      },
      "execution_count": 7,
      "outputs": [
        {
          "output_type": "stream",
          "name": "stdout",
          "text": [
            "x and y: False\n",
            "x or y: True\n",
            "not x: False\n"
          ]
        }
      ]
    },
    {
      "cell_type": "code",
      "source": [
        "# Q.9  Write a Python program to convert user input from string to integer, float, and boolean types.\n",
        "\n",
        "value = input(\"Enter a value: \")\n",
        "\n",
        "int_value = int(value)\n",
        "float_value = float(value)\n",
        "bool_value = bool(value)\n",
        "\n",
        "print(\"Integer:\", int_value)\n",
        "print(\"Float:\", float_value)\n",
        "print(\"Boolean:\", bool_value)"
      ],
      "metadata": {
        "colab": {
          "base_uri": "https://localhost:8080/"
        },
        "id": "wK-bKD-gSYtX",
        "outputId": "44698a55-2e95-4b1f-9a8c-1ace4e2a6826"
      },
      "execution_count": 8,
      "outputs": [
        {
          "output_type": "stream",
          "name": "stdout",
          "text": [
            "Enter a value: 3\n",
            "Integer: 3\n",
            "Float: 3.0\n",
            "Boolean: True\n"
          ]
        }
      ]
    },
    {
      "cell_type": "code",
      "source": [
        "# Q.10  Write code to demonstrate type casting with list elements.\n",
        "\n",
        "str_list = [\"10\", \"20\", \"30\"]\n",
        "int_list = [int(i) for i in str_list]\n",
        "\n",
        "print(\"Original list:\", str_list)\n",
        "print(\"Converted to integers:\", int_list)"
      ],
      "metadata": {
        "colab": {
          "base_uri": "https://localhost:8080/"
        },
        "id": "ZXCBDHXIS-PT",
        "outputId": "b7deb023-9082-4022-f950-0ba084b77eee"
      },
      "execution_count": 9,
      "outputs": [
        {
          "output_type": "stream",
          "name": "stdout",
          "text": [
            "Original list: ['10', '20', '30']\n",
            "Converted to integers: [10, 20, 30]\n"
          ]
        }
      ]
    },
    {
      "cell_type": "code",
      "source": [
        "# Q.11  Write a program that checks if a number is positive, negative, or zero.\n",
        "\n",
        "num=float(input(\"Enter any number:\"))\n",
        "if num == 0:\n",
        "  print(\"Number is zero\")\n",
        "elif num >0:\n",
        "  print(\"Number is positive: \")\n",
        "else:\n",
        "  print(\"Number is negative\")"
      ],
      "metadata": {
        "colab": {
          "base_uri": "https://localhost:8080/"
        },
        "id": "zvuR4FUUTjf0",
        "outputId": "15301fb8-4809-43d4-a615-10b691f0d5f4"
      },
      "execution_count": 10,
      "outputs": [
        {
          "output_type": "stream",
          "name": "stdout",
          "text": [
            "Enter any number:3\n",
            "Number is positive: \n"
          ]
        }
      ]
    },
    {
      "cell_type": "code",
      "source": [
        "# Q. 12 Write a for loop to print numbers from 1 to 10.\n",
        "\n",
        "for yo in range (1,10+1):\n",
        "  print(yo)"
      ],
      "metadata": {
        "colab": {
          "base_uri": "https://localhost:8080/"
        },
        "id": "brMPqmd4UV-S",
        "outputId": "2eb00d16-1153-460d-abec-d1ed8595374d"
      },
      "execution_count": 11,
      "outputs": [
        {
          "output_type": "stream",
          "name": "stdout",
          "text": [
            "1\n",
            "2\n",
            "3\n",
            "4\n",
            "5\n",
            "6\n",
            "7\n",
            "8\n",
            "9\n",
            "10\n"
          ]
        }
      ]
    },
    {
      "cell_type": "code",
      "source": [
        "# Q.13 Write a Python program to find the sum of all even numbers between 1 and 50.\n",
        "\n",
        "total=0\n",
        "for i in range (1, 51):\n",
        "  if i%2==0:\n",
        "    total=total+i\n",
        "\n",
        "print(\"Sum os all even number is: \",total)"
      ],
      "metadata": {
        "colab": {
          "base_uri": "https://localhost:8080/"
        },
        "id": "expwEiHJUzOW",
        "outputId": "356f5b65-8d66-449f-fbcc-7c22d6ab105a"
      },
      "execution_count": 12,
      "outputs": [
        {
          "output_type": "stream",
          "name": "stdout",
          "text": [
            "Sum os all even number is:  650\n"
          ]
        }
      ]
    },
    {
      "cell_type": "code",
      "source": [
        "# Q. 14  Write a program to reverse a string using a while loop.\n",
        "\n",
        "user_string = input(\"Enter a string: \")\n",
        "reversed_string = \"\"\n",
        "index = len(user_string) - 1\n",
        "\n",
        "while index >= 0:\n",
        "    reversed_string =reversed_string+ user_string[index]\n",
        "    index =index- 1\n",
        "\n",
        "print(\"Reversed string:\", reversed_string)"
      ],
      "metadata": {
        "colab": {
          "base_uri": "https://localhost:8080/"
        },
        "id": "T594H84xVRdd",
        "outputId": "4ba169ad-9f85-4f5e-b660-c22732ead264"
      },
      "execution_count": 16,
      "outputs": [
        {
          "output_type": "stream",
          "name": "stdout",
          "text": [
            "Enter a string: animesh\n",
            "Reversed string: hsemina\n"
          ]
        }
      ]
    },
    {
      "cell_type": "code",
      "source": [
        "# Q. 15 Write a Python program to calculate the factorial of a number provided by the user using a while loop.\n",
        "\n",
        "num = int(input(\"Enter a number: \"))\n",
        "factorial = 1\n",
        "i = 1\n",
        "\n",
        "while i <= num:\n",
        "    factorial *= i\n",
        "    i += 1\n",
        "\n",
        "print(f\"Factorial of {num} is {factorial}\")"
      ],
      "metadata": {
        "colab": {
          "base_uri": "https://localhost:8080/"
        },
        "id": "ChE-z1s9WJ6z",
        "outputId": "652bdd66-8c56-4602-c7b2-f1fdaaebb0d6"
      },
      "execution_count": 20,
      "outputs": [
        {
          "output_type": "stream",
          "name": "stdout",
          "text": [
            "Enter a number: 9\n",
            "Factorial of 9 is 362880\n"
          ]
        }
      ]
    }
  ]
}